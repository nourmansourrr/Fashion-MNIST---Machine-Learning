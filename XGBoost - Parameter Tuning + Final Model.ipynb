{
 "cells": [
  {
   "cell_type": "markdown",
   "metadata": {},
   "source": [
    "<center> <h3 style=\"background-color:#ADD8E6; color:black;\">Importing Libararies</h3> </center>"
   ]
  },
  {
   "cell_type": "code",
   "execution_count": 1,
   "metadata": {},
   "outputs": [],
   "source": [
    "import numpy as np \n",
    "import pandas as pd\n",
    "\n",
    "\n",
    "from sklearn.metrics import accuracy_score, confusion_matrix, classification_report\n",
    "from sklearn.model_selection import StratifiedKFold, train_test_split\n",
    "from sklearn.decomposition import PCA\n",
    "from sklearn.ensemble import RandomForestClassifier\n",
    "import xgboost as xgb\n",
    "\n",
    "\n",
    "import seaborn as sb\n",
    "import cv2\n",
    "import matplotlib.pyplot as plt\n",
    "import time"
   ]
  },
  {
   "cell_type": "code",
   "execution_count": 3,
   "metadata": {},
   "outputs": [],
   "source": [
    "train = pd.read_csv(\"D:/Nour/Semester 7/Machine Learning/Project/fashion-mnist_train.csv\")\n",
    "test = pd.read_csv(\"D:/Nour/Semester 7/Machine Learning/Project/fashion-mnist_test.csv\")"
   ]
  },
  {
   "cell_type": "code",
   "execution_count": 4,
   "metadata": {},
   "outputs": [],
   "source": [
    "label = ['T-shirt/Top','Trouser','Pullover','Dress','Coat','Sandal','Shirt','Sneaker','Bag','Ankle Boot']"
   ]
  },
  {
   "cell_type": "code",
   "execution_count": 5,
   "metadata": {},
   "outputs": [],
   "source": [
    "# Splitting the data into X_train, y_train, X_test, y_test\n",
    "X_train = train.iloc[:,1:]\n",
    "y_train = train.iloc[:,0]\n",
    "X_test = test.iloc[:,1:]\n",
    "y_test = test.iloc[:,0]"
   ]
  },
  {
   "cell_type": "code",
   "execution_count": null,
   "metadata": {},
   "outputs": [],
   "source": [
    "# Normalizing the data\n",
    "X_train /= 255\n",
    "X_test /= 255"
   ]
  },
  {
   "cell_type": "code",
   "execution_count": 8,
   "metadata": {},
   "outputs": [],
   "source": [
    "# PCA transformation, using the same number of components as SVM model\n",
    "pca = PCA(n_components=400)\n",
    "pca.fit(X_train)\n",
    "X_trainpca = pca.transform(X_train)\n",
    "X_testpca = pca.transform(X_test)"
   ]
  },
  {
   "cell_type": "code",
   "execution_count": 9,
   "metadata": {},
   "outputs": [
    {
     "name": "stdout",
     "output_type": "stream",
     "text": [
      "Accuracy: 0.8582\n"
     ]
    }
   ],
   "source": [
    "# Checking performance of Random Forest model\n",
    "RF = RandomForestClassifier(n_estimators=100, random_state=42)\n",
    "RF.fit(X_trainpca, y_train)\n",
    "y_pred = RF.predict(X_testpca)\n",
    "accuracy = accuracy_score(y_test, y_pred)\n",
    "print('Accuracy:',accuracy )"
   ]
  },
  {
   "cell_type": "code",
   "execution_count": 10,
   "metadata": {},
   "outputs": [
    {
     "name": "stdout",
     "output_type": "stream",
     "text": [
      "Accuracy: 0.8831\n"
     ]
    }
   ],
   "source": [
    "# Checking performance of XGBoost model\n",
    "XGB = xgb.XGBClassifier(n_estimators=100, random_state=0)\n",
    "XGB.fit(X_trainpca, y_train)\n",
    "\n",
    "y_pred = XGB.predict(X_testpca)\n",
    "\n",
    "accuracy = accuracy_score(y_test, y_pred)\n",
    "print('Accuracy:',accuracy )"
   ]
  },
  {
   "cell_type": "markdown",
   "metadata": {},
   "source": [
    "This initial check was done to see which model peforms better to further tune the parameters. XGBoost performed better, this could be due to the fact that XGBoost learns from the errors of previous trees while in Random Forest each tree is independent of the other. So any further analysis in this notebook is done on XGBoost."
   ]
  },
  {
   "cell_type": "markdown",
   "metadata": {},
   "source": [
    "<center> <h3 style=\"background-color:#ADD8E6; color:black;\">Parameter Tuning</h3> </center>"
   ]
  },
  {
   "cell_type": "code",
   "execution_count": 11,
   "metadata": {},
   "outputs": [
    {
     "name": "stdout",
     "output_type": "stream",
     "text": [
      "Test Accuracy for estimators 50 : 0.8741\n",
      "Train Accuracy of estimtors  50 : 0.98485\n",
      "Test Accuracy for estimators 100 : 0.8831\n",
      "Train Accuracy of estimtors  100 : 0.9999166666666667\n",
      "Test Accuracy for estimators 200 : 0.8894\n",
      "Train Accuracy of estimtors  200 : 1.0\n",
      "Test Accuracy for estimators 250 : 0.8919\n",
      "Train Accuracy of estimtors  250 : 1.0\n"
     ]
    }
   ],
   "source": [
    "from pandas import DataFrame\n",
    "estimators = [50, 100, 200, 250]\n",
    "accuracytest = []\n",
    "accuracytrain = []\n",
    "df = DataFrame(columns=['estimators', 'train_acc', 'test_acc', 'time'])\n",
    "k = 0\n",
    "for i in estimators:\n",
    "    XGB = xgb.XGBClassifier(n_estimators=i, random_state=0)\n",
    "\n",
    "    XGB.fit(X_trainpca, y_train)\n",
    "    XGB_start = time.time()\n",
    "\n",
    "    y_pred = XGB.predict(X_testpca)\n",
    "    XGB_end = time.time()\n",
    "\n",
    "\n",
    "    testacc = accuracy_score(y_test, y_pred)\n",
    "    print('Test Accuracy for estimators',i, \":\",testacc )\n",
    "\n",
    "    y_predtrain = XGB.predict(X_trainpca)\n",
    "    trainacc = accuracy_score(y_train, y_predtrain)\n",
    "\n",
    "    accuracytest.append(testacc)\n",
    "    accuracytrain.append(trainacc)\n",
    "    XGB_time = XGB_end - XGB_start\n",
    "\n",
    "    print(\"Train Accuracy of estimtors \", i,\":\", trainacc)\n",
    "    df.loc[k] = [i,trainacc, testacc, XGB_time]\n",
    "    k += 1"
   ]
  },
  {
   "cell_type": "code",
   "execution_count": 12,
   "metadata": {},
   "outputs": [
    {
     "name": "stdout",
     "output_type": "stream",
     "text": [
      "Test Accuracy for estimators 300 : 0.8927\n",
      "Train Accuracy of estimtors  300 : 1.0\n",
      "Test Accuracy for estimators 400 : 0.8937\n",
      "Train Accuracy of estimtors  400 : 1.0\n",
      "Test Accuracy for estimators 500 : 0.894\n",
      "Train Accuracy of estimtors  500 : 1.0\n",
      "Test Accuracy for estimators 600 : 0.8943\n",
      "Train Accuracy of estimtors  600 : 1.0\n"
     ]
    }
   ],
   "source": [
    "estimators = [300, 400, 500, 600]\n",
    "\n",
    "for i in estimators:\n",
    "    XGB = xgb.XGBClassifier(n_estimators=i, random_state=0)\n",
    "\n",
    "    XGB.fit(X_trainpca, y_train)\n",
    "    XGB_start = time.time()\n",
    "\n",
    "    y_pred = XGB.predict(X_testpca)\n",
    "    XGB_end = time.time()\n",
    "\n",
    "\n",
    "    testacc = accuracy_score(y_test, y_pred)\n",
    "    print('Test Accuracy for estimators',i, \":\",testacc )\n",
    "\n",
    "    y_predtrain = XGB.predict(X_trainpca)\n",
    "    trainacc = accuracy_score(y_train, y_predtrain)\n",
    "\n",
    "    accuracytest.append(testacc)\n",
    "    accuracytrain.append(trainacc)\n",
    "    XGB_time = XGB_end - XGB_start\n",
    "\n",
    "    print(\"Train Accuracy of estimtors \", i,\":\", trainacc)\n",
    "    df.loc[k] = [i,trainacc, testacc, XGB_time]\n",
    "    k += 1"
   ]
  },
  {
   "cell_type": "code",
   "execution_count": 13,
   "metadata": {},
   "outputs": [
    {
     "data": {
      "text/html": [
       "<div>\n",
       "<style scoped>\n",
       "    .dataframe tbody tr th:only-of-type {\n",
       "        vertical-align: middle;\n",
       "    }\n",
       "\n",
       "    .dataframe tbody tr th {\n",
       "        vertical-align: top;\n",
       "    }\n",
       "\n",
       "    .dataframe thead th {\n",
       "        text-align: right;\n",
       "    }\n",
       "</style>\n",
       "<table border=\"1\" class=\"dataframe\">\n",
       "  <thead>\n",
       "    <tr style=\"text-align: right;\">\n",
       "      <th></th>\n",
       "      <th>estimators</th>\n",
       "      <th>train_acc</th>\n",
       "      <th>test_acc</th>\n",
       "      <th>time</th>\n",
       "    </tr>\n",
       "  </thead>\n",
       "  <tbody>\n",
       "    <tr>\n",
       "      <th>0</th>\n",
       "      <td>50.0</td>\n",
       "      <td>0.984850</td>\n",
       "      <td>0.8741</td>\n",
       "      <td>0.086380</td>\n",
       "    </tr>\n",
       "    <tr>\n",
       "      <th>1</th>\n",
       "      <td>100.0</td>\n",
       "      <td>0.999917</td>\n",
       "      <td>0.8831</td>\n",
       "      <td>0.077635</td>\n",
       "    </tr>\n",
       "    <tr>\n",
       "      <th>2</th>\n",
       "      <td>200.0</td>\n",
       "      <td>1.000000</td>\n",
       "      <td>0.8894</td>\n",
       "      <td>0.613674</td>\n",
       "    </tr>\n",
       "    <tr>\n",
       "      <th>3</th>\n",
       "      <td>250.0</td>\n",
       "      <td>1.000000</td>\n",
       "      <td>0.8919</td>\n",
       "      <td>0.393306</td>\n",
       "    </tr>\n",
       "    <tr>\n",
       "      <th>4</th>\n",
       "      <td>300.0</td>\n",
       "      <td>1.000000</td>\n",
       "      <td>0.8927</td>\n",
       "      <td>2.329426</td>\n",
       "    </tr>\n",
       "    <tr>\n",
       "      <th>5</th>\n",
       "      <td>400.0</td>\n",
       "      <td>1.000000</td>\n",
       "      <td>0.8937</td>\n",
       "      <td>0.680958</td>\n",
       "    </tr>\n",
       "    <tr>\n",
       "      <th>6</th>\n",
       "      <td>500.0</td>\n",
       "      <td>1.000000</td>\n",
       "      <td>0.8940</td>\n",
       "      <td>0.703735</td>\n",
       "    </tr>\n",
       "    <tr>\n",
       "      <th>7</th>\n",
       "      <td>600.0</td>\n",
       "      <td>1.000000</td>\n",
       "      <td>0.8943</td>\n",
       "      <td>1.298446</td>\n",
       "    </tr>\n",
       "  </tbody>\n",
       "</table>\n",
       "</div>"
      ],
      "text/plain": [
       "   estimators  train_acc  test_acc      time\n",
       "0        50.0   0.984850    0.8741  0.086380\n",
       "1       100.0   0.999917    0.8831  0.077635\n",
       "2       200.0   1.000000    0.8894  0.613674\n",
       "3       250.0   1.000000    0.8919  0.393306\n",
       "4       300.0   1.000000    0.8927  2.329426\n",
       "5       400.0   1.000000    0.8937  0.680958\n",
       "6       500.0   1.000000    0.8940  0.703735\n",
       "7       600.0   1.000000    0.8943  1.298446"
      ]
     },
     "execution_count": 13,
     "metadata": {},
     "output_type": "execute_result"
    }
   ],
   "source": [
    "df"
   ]
  },
  {
   "cell_type": "markdown",
   "metadata": {},
   "source": [
    "Starting from number of estimators = 250, all models show very similar accuracy with difference of only 0.03, therefore we chose the model with 250 number of estimators because it had the least testing time."
   ]
  },
  {
   "cell_type": "code",
   "execution_count": 15,
   "metadata": {},
   "outputs": [
    {
     "name": "stdout",
     "output_type": "stream",
     "text": [
      "Test Accuracy: 0.8919\n",
      "Train Accuracy: 1.0\n"
     ]
    }
   ],
   "source": [
    "XGB = xgb.XGBClassifier(n_estimators=250, random_state=0)\n",
    "\n",
    "XGB.fit(X_trainpca, y_train)\n",
    "XGB_start = time.time()\n",
    "\n",
    "y_pred1 = XGB.predict(X_testpca)\n",
    "XGB_end = time.time()\n",
    "\n",
    "\n",
    "testacc1 = accuracy_score(y_test, y_pred1)\n",
    "print('Test Accuracy:',testacc1 )\n",
    "\n",
    "y_predtrain1 = XGB.predict(X_trainpca)\n",
    "trainacc1 = accuracy_score(y_train, y_predtrain1)\n",
    "\n",
    "XGB_time = XGB_end - XGB_start\n",
    "\n",
    "print(\"Train Accuracy:\",  trainacc1)\n"
   ]
  },
  {
   "cell_type": "markdown",
   "metadata": {},
   "source": [
    "<center> <h3 style=\"background-color:#ADD8E6; color:black;\">Model evaluation</h3> </center>"
   ]
  },
  {
   "cell_type": "code",
   "execution_count": 16,
   "metadata": {},
   "outputs": [
    {
     "name": "stdout",
     "output_type": "stream",
     "text": [
      "              precision    recall  f1-score   support\n",
      "\n",
      " T-shirt/Top       0.82      0.85      0.84      1000\n",
      "     Trouser       0.99      0.97      0.98      1000\n",
      "    Pullover       0.83      0.82      0.82      1000\n",
      "       Dress       0.90      0.92      0.91      1000\n",
      "        Coat       0.84      0.87      0.85      1000\n",
      "      Sandal       0.96      0.94      0.95      1000\n",
      "       Shirt       0.74      0.69      0.71      1000\n",
      "     Sneaker       0.93      0.93      0.93      1000\n",
      "         Bag       0.97      0.97      0.97      1000\n",
      "  Ankle Boot       0.93      0.96      0.95      1000\n",
      "\n",
      "    accuracy                           0.89     10000\n",
      "   macro avg       0.89      0.89      0.89     10000\n",
      "weighted avg       0.89      0.89      0.89     10000\n",
      "\n"
     ]
    }
   ],
   "source": [
    "# Classification Report on XGBoost classifier\n",
    "from sklearn import metrics\n",
    "\n",
    "print(metrics.classification_report(y_test, y_pred1, target_names = label))"
   ]
  },
  {
   "cell_type": "code",
   "execution_count": 17,
   "metadata": {},
   "outputs": [
    {
     "data": {
      "image/png": "[encoded data removed]",
      "text/plain": [
       "<Figure size 900x600 with 1 Axes>"
      ]
     },
     "metadata": {},
     "output_type": "display_data"
    }
   ],
   "source": [
    "# Confusion Matrix for XGBoost Classifier\n",
    "import seaborn as sns\n",
    "conf_matrix = confusion_matrix(y_test, y_pred1)\n",
    "plt.figure(figsize=(9, 6))\n",
    "sns.heatmap(conf_matrix, annot=True, fmt=\"d\", cmap=\"Blues_r\", cbar=False)\n",
    "plt.title('Confusion Matrix')\n",
    "plt.xlabel('Predicted Label')\n",
    "plt.ylabel('True Label')\n",
    "plt.show()"
   ]
  },
  {
   "cell_type": "markdown",
   "metadata": {},
   "source": [
    "Similarl to SVM, Shirt class also shows the highest number of misclassifications"
   ]
  }
 ],
 "metadata": {
  "kernelspec": {
   "display_name": "Python 3",
   "language": "python",
   "name": "python3"
  },
  "language_info": {
   "codemirror_mode": {
    "name": "ipython",
    "version": 3
   },
   "file_extension": ".py",
   "mimetype": "text/x-python",
   "name": "python",
   "nbconvert_exporter": "python",
   "pygments_lexer": "ipython3",
   "version": "3.11.5"
  }
 },
 "nbformat": 4,
 "nbformat_minor": 2
}
